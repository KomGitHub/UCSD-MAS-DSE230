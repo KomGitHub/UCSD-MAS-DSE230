{
 "cells": [
  {
   "cell_type": "markdown",
   "metadata": {},
   "source": [
    "### HomeWork 1\n",
    "\n",
    "Unigrams, bigrams, and in general n-grams are 1,2 or n words that appear consecutively in a single sentence. Consider the sentence:\n",
    "\n",
    "    \"to know you is to love you.\"\n",
    "\n",
    "This sentence contains:\n",
    "\n",
    "    Unigrams(single words): to(2 times), know(1 time), you(2 times), is(1 time), love(1 time)\n",
    "    Bigrams: \"to know\",\"know you\",\"you is\", \"is to\",\"to love\", \"love you\" (all 1 time)\n",
    "    Trigrams: \"to know you\", \"know you is\", \"you is to\", \"is to love\", \"to love you\" (all 1 time)\n",
    "\n",
    "The goal of this HW is to find the most common n-grams in the text of Moby Dick.\n",
    "\n",
    "Your task is to:\n",
    "\n",
    "* Convert all text to lower case, remove all punctuations. (Finally, the text should contain only letters, numbers and spaces)\n",
    "* Count the occurance of each word and of each 2,3,4,5 - gram\n",
    "* List the 5 most common elements for each order (word, bigram, trigram...). For each element, list the sequence of words and the number of occurances.\n",
    "\n",
    "Basically, you need to change all punctuations to a space and define as a word anything that is between whitespace or at the beginning or the end of a sentence, and does not consist of whitespace (strings consisiting of only white spaces should not be considered as words). The important thing here is to be simple, not to be 100% correct in terms of parsing English. Evaluation will be primarily based on identifying the 5 most frequent n-grams in correct order for all values of n. Some slack will be allowed in the values of frequency of ngrams to allow flexibility in text processing.   \n",
    "\n",
    "This text is short enough to process on a single core using standard python. However, you are required to solve it using RDD's for the whole process. At the very end you can use `.take(5)` to bring the results to the central node for printing."
   ]
  },
  {
   "cell_type": "markdown",
   "metadata": {},
   "source": [
    "The code for reading the file and splitting it into sentences is shown below:"
   ]
  },
  {
   "cell_type": "code",
   "execution_count": 3,
   "metadata": {
    "collapsed": true
   },
   "outputs": [],
   "source": [
    "import findspark\n",
    "findspark.init()\n",
    "import pyspark\n",
    "sc = pyspark.SparkContext()"
   ]
  },
  {
   "cell_type": "code",
   "execution_count": 4,
   "metadata": {
    "collapsed": false
   },
   "outputs": [],
   "source": [
    "textRDD = sc.newAPIHadoopFile('Data/Moby-Dick.txt',\n",
    "                              'org.apache.hadoop.mapreduce.lib.input.TextInputFormat',\n",
    "                              'org.apache.hadoop.io.LongWritable',\n",
    "                              'org.apache.hadoop.io.Text',\n",
    "                               conf={'textinputformat.record.delimiter': \"\\r\\n\\r\\n\"}) \\\n",
    "            .map(lambda x: x[1])\n",
    "\n",
    "\n",
    "sentences=textRDD.flatMap(lambda x: x.split(\". \")).map(lambda x: x.encode('utf-8'))"
   ]
  },
  {
   "cell_type": "code",
   "execution_count": 5,
   "metadata": {
    "collapsed": true
   },
   "outputs": [],
   "source": [
    "def find_ngrams(input_list, n):\n",
    "  return zip(*[input_list[i:] for i in range(n)])"
   ]
  },
  {
   "cell_type": "code",
   "execution_count": 6,
   "metadata": {
    "collapsed": false
   },
   "outputs": [
    {
     "data": {
      "text/plain": [
       "[(13, ('the', 'project', 'gutenberg', 'literary', 'archive')),\n",
       " (13, ('project', 'gutenberg', 'literary', 'archive', 'foundation')),\n",
       " (10, ('and', 'at', 'the', 'same', 'time')),\n",
       " (9, ('the', 'bottom', 'of', 'the', 'sea')),\n",
       " (7, ('the', 'terms', 'of', 'this', 'agreement')),\n",
       " (6, ('and', 'not', 'only', 'that', 'but')),\n",
       " (6, ('to', 'the', 'project', 'gutenberg', 'literary')),\n",
       " (6, ('moby', 'dick', 'or', 'the', 'whale')),\n",
       " (6, ('here', 'be', 'it', 'said', 'that')),\n",
       " (5, ('hast', 'seen', 'the', 'white', 'whale')),\n",
       " (5, ('the', 'other', 'side', 'of', 'the')),\n",
       " (5, ('in', 'the', 'middle', 'of', 'the')),\n",
       " (5, ('the', 'cape', 'of', 'good', 'hope')),\n",
       " (5, ('the', 'full', 'project', 'gutenbergtm', 'license')),\n",
       " (5, ('i', 'should', 'like', 'to', 'know')),\n",
       " (5, ('out', 'of', 'sight', 'of', 'land')),\n",
       " (4, ('of', 'the', 'sperm', 'whale', 'is')),\n",
       " (4, ('the', 'greenland', 'or', 'right', 'whale')),\n",
       " (4, ('was', 'it', 'not', 'so', 'o')),\n",
       " (4, ('as', 'in', 'the', 'case', 'of')),\n",
       " (4, ('of', 'the', 'great', 'sperm', 'whale')),\n",
       " (4, ('the', 'upper', 'part', 'of', 'the')),\n",
       " (4, ('whats', 'the', 'matter', 'with', 'you')),\n",
       " (4, ('as', 'if', 'it', 'had', 'been')),\n",
       " (4, ('not', 'to', 'speak', 'of', 'the')),\n",
       " (4, ('from', 'one', 'to', 'the', 'other')),\n",
       " (4, ('sleep', 'two', 'in', 'a', 'bed')),\n",
       " (4, ('as', 'the', 'case', 'might', 'be')),\n",
       " (4, ('down', 'into', 'the', 'cabin', 'to')),\n",
       " (4, ('the', 'middle', 'of', 'the', 'room')),\n",
       " (4, ('gave', 'me', 'to', 'understand', 'that')),\n",
       " (4, ('now', 'that', 'i', 'think', 'of')),\n",
       " (4, ('in', 'one', 'hand', 'and', 'a')),\n",
       " (4, ('the', 'seven', 'hundred', 'and', 'seventyseventh')),\n",
       " (4, ('all', 'this', 'as', 'it', 'may')),\n",
       " (4, ('of', 'project', 'gutenbergtm', 'electronic', 'works')),\n",
       " (4, ('at', 'one', 'and', 'the', 'same')),\n",
       " (4, ('as', 'if', 'it', 'were', 'a')),\n",
       " (4, ('the', 'sperm', 'whale', 'and', 'the')),\n",
       " (4, ('that', 'i', 'think', 'of', 'it')),\n",
       " (4, ('go', 'to', 'sea', 'as', 'a')),\n",
       " (4, ('on', 'the', 'other', 'side', 'of')),\n",
       " (4, ('of', 'the', 'whale', 'in', 'his')),\n",
       " (4, ('be', 'all', 'this', 'as', 'it')),\n",
       " (4, ('to', 'the', 'bottom', 'of', 'the')),\n",
       " (4, ('it', 'came', 'to', 'pass', 'that')),\n",
       " (3, ('have', 'mercy', 'on', 'us', 'all')),\n",
       " (3, ('look', 'ye', 'look', 'they', 'look')),\n",
       " (3, ('at', 'the', 'time', 'of', 'the')),\n",
       " (3, ('upon', 'the', 'top', 'of', 'the')),\n",
       " (3, ('the', 'skin', 'of', 'the', 'whale')),\n",
       " (3, ('in', 'the', 'face', 'of', 'all')),\n",
       " (3, ('tell', 'you', 'what', 'it', 'is')),\n",
       " (3, ('as', 'if', 'he', 'were', 'a')),\n",
       " (3, ('you', 'would', 'have', 'almost', 'thought')),\n",
       " (3, ('sporty', 'gamy', 'jesty', 'joky', 'hokypoky')),\n",
       " (3, ('owner', 'of', 'the', 'project', 'gutenbergtm')),\n",
       " (3, ('the', 'lower', 'part', 'of', 'the')),\n",
       " (3, ('all', 'the', 'world', 'like', 'a')),\n",
       " (3, ('business', 'is', 'that', 'of', 'yours')),\n",
       " (3, ('funny', 'sporty', 'gamy', 'jesty', 'joky')),\n",
       " (3, ('he', 'looks', 'we', 'look', 'ye')),\n",
       " (3, ('of', 'the', 'spare', 'boats', 'and')),\n",
       " (3, ('jesty', 'joky', 'hokypoky', 'lad', 'is')),\n",
       " (3, ('his', 'hand', 'as', 'with', 'a')),\n",
       " (3, ('i', 'look', 'you', 'look', 'he')),\n",
       " (3, ('it', 'seems', 'to', 'me', 'that')),\n",
       " (3, ('seemed', 'on', 'the', 'point', 'of')),\n",
       " (3, ('at', 'the', 'bottom', 'of', 'the')),\n",
       " (3, ('the', 'precise', 'bearing', 'of', 'the')),\n",
       " (3, ('a', 'project', 'gutenbergtm', 'electronic', 'work')),\n",
       " (3, ('you', 'look', 'he', 'looks', 'we')),\n",
       " (3, ('in', 'the', 'minds', 'of', 'the')),\n",
       " (3, ('look', 'you', 'look', 'he', 'looks')),\n",
       " (3, ('lad', 'is', 'the', 'ocean', 'oh')),\n",
       " (3, ('but', 'a', 'fastfish', 'what', 'is')),\n",
       " (3, ('pilot', 'of', 'the', 'living', 'god')),\n",
       " (3, ('on', 'top', 'of', 'his', 'head')),\n",
       " (3, ('hokypoky', 'lad', 'is', 'the', 'ocean')),\n",
       " (3, ('on', 'the', 'summit', 'of', 'the')),\n",
       " (3, ('on', 'land', 'and', 'on', 'sea')),\n",
       " (3, ('a', 'species', 'of', 'the', 'leviathan')),\n",
       " (3, ('the', 'isles', 'of', 'the', 'sea')),\n",
       " (3, ('a', 'funny', 'sporty', 'gamy', 'jesty')),\n",
       " (3, ('but', 'be', 'all', 'this', 'as')),\n",
       " (3, ('bear', 'me', 'out', 'in', 'it')),\n",
       " (3, ('what', 'business', 'is', 'that', 'of')),\n",
       " (3, ('for', 'all', 'the', 'world', 'like')),\n",
       " (3, ('it', 'would', 'be', 'hard', 'to')),\n",
       " (3, ('moving', 'his', 'hand', 'as', 'with')),\n",
       " (3, ('story', 'of', 'jonah', 'and', 'the')),\n",
       " (3, ('the', 'whole', 'of', 'the', 'law')),\n",
       " (3, ('morning', 'to', 'ye', 'shipmates', 'morning')),\n",
       " (3, ('of', 'jonah', 'and', 'the', 'whale')),\n",
       " (3, ('between', 'the', 'whale', 'and', 'the')),\n",
       " (3, ('is', 'by', 'far', 'the', 'most')),\n",
       " (3, ('on', 'the', 'part', 'of', 'the')),\n",
       " (3, ('this', 'work', 'or', 'any', 'other')),\n",
       " (3, ('looks', 'we', 'look', 'ye', 'look')),\n",
       " (3, ('position', 'of', 'the', 'whales', 'eyes'))]"
      ]
     },
     "execution_count": 6,
     "metadata": {},
     "output_type": "execute_result"
    }
   ],
   "source": [
    "import string\n",
    "replace_punctuation = string.maketrans(string.punctuation, ' '*len(string.punctuation))\n",
    "sentences.map(lambda x: ' '.join(x.split()).lower())\\\n",
    "    .map(lambda x: x.translate(None, string.punctuation))\\\n",
    "    .flatMap(lambda x: find_ngrams(x.split(\" \"), 5))\\\n",
    "    .map(lambda x: (x,1))\\\n",
    "    .reduceByKey(lambda x,y: x+y)\\\n",
    "    .map(lambda x:(x[1],x[0])) \\\n",
    "    .sortByKey(False)\\\n",
    "    .take(100)"
   ]
  },
  {
   "cell_type": "code",
   "execution_count": null,
   "metadata": {
    "collapsed": true
   },
   "outputs": [],
   "source": []
  },
  {
   "cell_type": "markdown",
   "metadata": {},
   "source": [
    "Note: For running the file on cluster, change the file path to `'/data/Moby-Dick.txt'`"
   ]
  },
  {
   "cell_type": "markdown",
   "metadata": {},
   "source": [
    "Let `freq_ngramRDD` be the final result RDD containing the n-grams sorted by their frequency in descending order. Use the following function to print your final output:"
   ]
  },
  {
   "cell_type": "code",
   "execution_count": 7,
   "metadata": {
    "collapsed": true
   },
   "outputs": [],
   "source": [
    "def printOutput(n,freq_ngramRDD):\n",
    "    top=freq_ngramRDD.take(5)\n",
    "    print '\\n============ %d most frequent %d-grams'%(5,n)\n",
    "    print '\\nindex\\tcount\\tngram'\n",
    "    for i in range(5):\n",
    "        print '%d.\\t%d: \\t\"%s\"'%(i+1,top[i][0],' '.join(top[i][1]))"
   ]
  },
  {
   "cell_type": "markdown",
   "metadata": {},
   "source": [
    "Your output for unigrams should look like:\n",
    "```\n",
    "============ 5 most frequent 1-grams\n",
    "\n",
    "index\tcount\tngram\n",
    "1.       40: \t \"a\"\n",
    "2.\t   25: \t \"the\"\n",
    "3.\t   21: \t \"and\"\n",
    "4.\t   16: \t \"to\"\n",
    "5.\t   9:  \t \"of\"\n",
    "\n",
    "```\n",
    "Note: This is just a sample output and does not resemble the actual results in any manner.\n",
    "\n",
    "Your final program should generate an output using the following code:"
   ]
  },
  {
   "cell_type": "code",
   "execution_count": null,
   "metadata": {
    "collapsed": true
   },
   "outputs": [],
   "source": []
  },
  {
   "cell_type": "code",
   "execution_count": 8,
   "metadata": {
    "collapsed": false
   },
   "outputs": [
    {
     "name": "stdout",
     "output_type": "stream",
     "text": [
      "\n",
      "============ 5 most frequent 1-grams\n",
      "\n",
      "index\tcount\tngram\n",
      "1.\t14620: \t\"the\"\n",
      "2.\t6732: \t\"of\"\n",
      "3.\t6502: \t\"and\"\n",
      "4.\t4799: \t\"a\"\n",
      "5.\t4706: \t\"to\"\n",
      "\n",
      "============ 5 most frequent 2-grams\n",
      "\n",
      "index\tcount\tngram\n",
      "1.\t1906: \t\"of the\"\n",
      "2.\t1193: \t\"in the\"\n",
      "3.\t746: \t\"to the\"\n",
      "4.\t444: \t\"from the\"\n",
      "5.\t413: \t\"the whale\"\n",
      "\n",
      "============ 5 most frequent 3-grams\n",
      "\n",
      "index\tcount\tngram\n",
      "1.\t116: \t\"the sperm whale\"\n",
      "2.\t109: \t\"of the whale\"\n",
      "3.\t88: \t\"the white whale\"\n",
      "4.\t64: \t\"one of the\"\n",
      "5.\t60: \t\"of the sea\"\n",
      "\n",
      "============ 5 most frequent 4-grams\n",
      "\n",
      "index\tcount\tngram\n",
      "1.\t43: \t\"of the sperm whale\"\n",
      "2.\t27: \t\"the sperm whale s\"\n",
      "3.\t20: \t\"at the same time\"\n",
      "4.\t18: \t\"project gutenberg tm electronic\"\n",
      "5.\t18: \t\"of the whale s\"\n",
      "\n",
      "============ 5 most frequent 5-grams\n",
      "\n",
      "index\tcount\tngram\n",
      "1.\t13: \t\"the project gutenberg literary archive\"\n",
      "2.\t13: \t\"project gutenberg literary archive foundation\"\n",
      "3.\t12: \t\"project gutenberg tm electronic works\"\n",
      "4.\t11: \t\"of the sperm whale s\"\n",
      "5.\t10: \t\"and at the same time\"\n"
     ]
    }
   ],
   "source": [
    "for n in range(1,6):\n",
    "    # Put your logic for generating the sorted n-gram RDD here and store it in freq_ngramRDD variable\n",
    "    freq_ngramRDD = sentences.map(lambda x: x.lower())\\\n",
    "    .map(lambda x: x.translate(replace_punctuation))\\\n",
    "    .flatMap(lambda x: find_ngrams(' '.join(x.split()).split(\" \"), n))\\\n",
    "    .map(lambda x: (x,1))\\\n",
    "    .reduceByKey(lambda x,y: x+y)\\\n",
    "    .map(lambda x:(x[1],x[0])) \\\n",
    "    .sortByKey(False)\n",
    "    printOutput(n,freq_ngramRDD)\n",
    "    \n",
    "    freq_ngramRDD = sentences.map(lambda x: x.lower())\\\n",
    "    .map(lambda x: x.translate(replace_punctuation))\\\n",
    "    .flatMap(lambda x: find_ngrams(' '.join(x.split()).split(\" \"), n))\\\n",
    "    .map(lambda x: (x,1))\\\n",
    "    .reduceByKey(lambda x,y: x+y)\\\n",
    "    .map(lambda x:(x[1],x[0]))\\\n",
    "    .sortByKey(False)"
   ]
  },
  {
   "cell_type": "code",
   "execution_count": null,
   "metadata": {
    "collapsed": true
   },
   "outputs": [],
   "source": []
  }
 ],
 "metadata": {
  "kernelspec": {
   "display_name": "Python 2",
   "language": "python",
   "name": "python2"
  },
  "language_info": {
   "codemirror_mode": {
    "name": "ipython",
    "version": 2
   },
   "file_extension": ".py",
   "mimetype": "text/x-python",
   "name": "python",
   "nbconvert_exporter": "python",
   "pygments_lexer": "ipython2",
   "version": "2.7.11"
  }
 },
 "nbformat": 4,
 "nbformat_minor": 0
}
